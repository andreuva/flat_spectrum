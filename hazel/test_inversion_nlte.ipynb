{
 "cells": [
  {
   "cell_type": "markdown",
   "id": "a0541e17",
   "metadata": {},
   "source": [
    "# Inversion of NLTE profiles with RT\n",
    "\n",
    "\n",
    "### Here we will invert a profiles obtained with a code of self consistent RT in NLTE and without flat spectrum aproximation."
   ]
  },
  {
   "cell_type": "code",
   "execution_count": null,
   "id": "3953a1a7",
   "metadata": {},
   "outputs": [],
   "source": [
    "import numpy as np\n",
    "import hazel\n",
    "import matplotlib.pyplot as plt\n",
    "import h5py\n",
    "# from astropy.io import fits"
   ]
  },
  {
   "cell_type": "code",
   "execution_count": null,
   "id": "eb322289",
   "metadata": {},
   "outputs": [],
   "source": [
    "# Let's define the files and parameters of the run\n",
    "datadir = \"/home/avicente/Documents/flat_spectrum/output_hazel_B_10.0_90.0_0.0_z100.0mM_20221103-102404/\"\n",
    "std = 0.0001\n",
    "basefile_inversion = \"10830_nlte\""
   ]
  },
  {
   "cell_type": "code",
   "execution_count": null,
   "id": "080963ac",
   "metadata": {},
   "outputs": [],
   "source": [
    "# Let's first load a profile:\n",
    "data = np.loadtxt(f\"{datadir}out/stokes_00.out\",skiprows=3,unpack=True)\n",
    "\n",
    "# constrain the wavelengths used for the test to the central ones (where the profile is)\n",
    "length = data.shape[1]\n",
    "p1 = int(length/6)\n",
    "p3 = int(p1*5)\n",
    "data = data[:,p1:p3]\n",
    "\n",
    "# invert the wavelength axis to be increasing\n",
    "data = data[:,::-1]"
   ]
  },
  {
   "cell_type": "code",
   "execution_count": null,
   "id": "e3394e1f",
   "metadata": {},
   "outputs": [],
   "source": [
    "# Convert from space to air wavelengths\n",
    "s = 1e4/np.copy(data[0])/1e-10\n",
    "n = 1 + 0.0000834254 + 0.02406147 / (130 - s**2) + 0.00015998 / (38.9 - s**2)\n",
    "ll = 299792458/np.copy(data[0])/10e-11/n\n",
    "\n",
    "# copy, normalize the data and add noise\n",
    "noise = np.random.normal(0, std, data[1:5].shape)\n",
    "stokes = np.copy(data[1:5])/data[1,0] + noise\n",
    "\n",
    "noise_observed = np.ones_like(stokes)*std\n",
    "\n",
    "# make sure the shapes are the intended\n",
    "print(ll.shape, stokes.shape, noise.shape, data.shape)"
   ]
  },
  {
   "cell_type": "code",
   "execution_count": null,
   "id": "5d291340",
   "metadata": {
    "scrolled": false
   },
   "outputs": [],
   "source": [
    "# Let's visualize these profiles: \n",
    "plt.figure(figsize=[14,8])\n",
    "plt.subplot(221)\n",
    "plt.plot(ll,stokes[0,:],'o')\n",
    "plt.ylabel(\"Stokes I\")\n",
    "plt.subplot(222)\n",
    "plt.plot(ll,stokes[1,:],'o')\n",
    "plt.ylabel(\"Stokes Q\")\n",
    "plt.subplot(223)\n",
    "plt.plot(ll,stokes[2,:],'o')\n",
    "plt.ylabel(\"Stokes U\")\n",
    "plt.xlabel(\"Wavelength\")\n",
    "plt.subplot(224)\n",
    "plt.plot(ll,stokes[3,:],'o')\n",
    "plt.ylabel(\"Stokes V\")\n",
    "plt.xlabel(\"Wavelength\")"
   ]
  },
  {
   "cell_type": "markdown",
   "id": "ac961bc4",
   "metadata": {},
   "source": [
    "### We will go straight to the inversion, we know what we need to do! "
   ]
  },
  {
   "cell_type": "code",
   "execution_count": null,
   "id": "e6954d30",
   "metadata": {},
   "outputs": [],
   "source": [
    "# First the wavelength axis\n",
    "n_wvl = len(ll)\n",
    "np.savetxt(f'{basefile_inversion}.wavelength', ll, header='lambda')\n",
    "\n",
    "# Then we will save something called, 'weigths', this will allow us to fine-tune the inversion if needed.\n",
    "f = open(f'{basefile_inversion}.weights', 'w')\n",
    "f.write('# WeightI WeightQ WeightU WeightV\\n')\n",
    "for i in range(n_wvl):\n",
    "    f.write('1.0    1.0   1.0   1.0\\n')\n",
    "f.close()\n",
    "\n",
    "# And finally, the 'observed' Stokes parameters:\n",
    "stokes_to_fit = stokes.copy()\n",
    "\n",
    "f = open(f'{basefile_inversion}.1d', 'wb')\n",
    "f.write(b'# LOS theta_LOS, phi_LOS, gamma_LOS\\n')\n",
    "f.write(b'0.0 0.0 90.0\\n') # This should be identical to the above otherwise we will get inconsistent results. \n",
    "                            # this is something you should know from the observations\n",
    "f.write(b'\\n')\n",
    "f.write(b'# Boundary condition I/Ic(mu=1), Q/Ic(mu=1), U/Ic(mu=1), V/Ic(mu=1)\\n')\n",
    "f.write(b'1.0 0.0 0.0 0.0\\n')\n",
    "f.write(b'\\n')\n",
    "f.write(b'# SI SQ SU SV sigmaI sigmaQ sigmaU sigmaV\\n')\n",
    "tmp = np.vstack([stokes_to_fit, noise_observed]) # the second one only adds appropriate noise next to each Stokes\n",
    "                                                        # measurement\n",
    "np.savetxt(f, tmp.T)\n",
    "f.close()"
   ]
  },
  {
   "cell_type": "code",
   "execution_count": null,
   "id": "3525baf8",
   "metadata": {},
   "outputs": [],
   "source": [
    "# Check again the shapes\n",
    "tmp.shape, n_wvl, stokes_to_fit.shape"
   ]
  },
  {
   "cell_type": "code",
   "execution_count": null,
   "id": "88bb0854",
   "metadata": {},
   "outputs": [],
   "source": [
    "# Run the inversion with the previously saved files\n",
    "iterator = hazel.Iterator(use_mpi=False)\n",
    "mod = hazel.Model(f'{basefile_inversion}.ini', working_mode='inversion', verbose=1, rank=iterator.get_rank(), randomization=1)\n",
    "iterator.use_model(model=mod)\n",
    "iterator.run_all_pixels()"
   ]
  },
  {
   "cell_type": "code",
   "execution_count": null,
   "id": "3e7dbfb4",
   "metadata": {},
   "outputs": [],
   "source": [
    "# copy the result and check the shape\n",
    "result = h5py.File(f'output_{basefile_inversion}.h5','r')\n",
    "fit = np.copy(result['spec1']['stokes'])\n",
    "fit = fit.reshape(1,4,n_wvl)\n",
    "fit.shape"
   ]
  },
  {
   "cell_type": "markdown",
   "id": "21a2ca03",
   "metadata": {},
   "source": [
    "### Result of the inversion (orange line) and NLTE profile (blue dots)"
   ]
  },
  {
   "cell_type": "code",
   "execution_count": null,
   "id": "5cb274a4",
   "metadata": {
    "scrolled": false
   },
   "outputs": [],
   "source": [
    "plt.figure(figsize=[15,15])\n",
    "plt.subplot(221)\n",
    "plt.plot(ll-10830,stokes_to_fit[0,:],'o')\n",
    "plt.plot(ll-10830,fit[0,0,:])\n",
    "# plt.ylim([0, 1.05])\n",
    "plt.subplot(222)\n",
    "plt.plot(ll-10830,stokes_to_fit[1,:],'o')\n",
    "plt.plot(ll-10830,fit[0,1,:])\n",
    "# plt.ylim([-0.0075, 0.0075])\n",
    "plt.subplot(223)\n",
    "plt.plot(ll-10830,stokes_to_fit[2,:],'o')\n",
    "plt.plot(ll-10830,fit[0,2,:])\n",
    "# plt.ylim([-0.0075, 0.0075])\n",
    "plt.subplot(224)\n",
    "plt.plot(ll-10830,stokes_to_fit[3,:],'o')\n",
    "plt.plot(ll-10830,fit[0,3,:])\n",
    "# plt.ylim([-0.0075, 0.0075])"
   ]
  },
  {
   "cell_type": "code",
   "execution_count": null,
   "id": "53bef597",
   "metadata": {},
   "outputs": [],
   "source": [
    "result['ch1'].keys()\n",
    "# Print them neatly:\n",
    "print (\"Bx= \",result['ch1']['Bx'][0,0,0])\n",
    "print (\"By= \",result['ch1']['By'][0,0,0])\n",
    "print (\"Bz= \",result['ch1']['Bz'][0,0,0])\n",
    "print (\"tau= \",result['ch1']['tau'][0,0,0])\n",
    "print (\"vlos \",result['ch1']['v'][0,0,0])\n",
    "print (\"vtherm= \",result['ch1']['deltav'][0,0,0])\n",
    "print (\"beta= \",result['ch1']['beta'][0,0,0])\n",
    "print (\"a= \",result['ch1']['a'][0,0,0])\n",
    "result.close()"
   ]
  },
  {
   "cell_type": "markdown",
   "id": "9341b0b3",
   "metadata": {},
   "source": [
    "## SYNTHESIS WITH THE SAME PARAMETERS AS THE ORIGINAL LINE"
   ]
  },
  {
   "cell_type": "code",
   "execution_count": null,
   "id": "0ead0290",
   "metadata": {},
   "outputs": [],
   "source": [
    "# We will first create a model:\n",
    "mod = hazel.Model(working_mode='synthesis')\n",
    "\n",
    "# The model contains the information about the desired wavelength grid, the so called 'topology', line of sight, and the boundary condition:\n",
    "mod.add_spectral({'Name': 'spec1', 'Wavelength': [ll.min(), ll.max(), len(ll)], 'topology': 'ch1',\n",
    "    'LOS': [0.0,0.0,90.0], 'Boundary condition': [1.0,0.0,0.0,0.0]})\n",
    "\n",
    "# It also contains the general information about our \"chromosphere\"\n",
    "mod.add_chromosphere({'Name': 'ch1', 'Spectral region': 'spec1', 'Height': 41.0, 'Line': '10830', 'Wavelength': [10826, 10833]})\n",
    "mod.setup()\n",
    "# note that the height of the slab above the solar surface is given here,in arcseconds.\n",
    "\n",
    "# Then finally we can set up the parameters of the model. In order of appearence, these are:\n",
    "# Bx, By, Bz, magnetic field in the cartesian (heliocentric) coordinates \n",
    "# Optical depth of the red component (tau)\n",
    "# LOS velocity\n",
    "# Thermal velocity\n",
    "# Beta, which is an ad-hoc parameter used to explain 'unusual' profiles (e.g. in flares) \n",
    "# Damping\n",
    "# Filling factor (provided separately) - only used in the case when we have multiple slabs, lying horizontally \n",
    "# next to eeach other, and occupying the same pixel\n",
    "\n",
    "Bx = 10.0\n",
    "By = 0.0\n",
    "Bz = 0.0\n",
    "tau = 1.0\n",
    "vlos = 0.0\n",
    "vth = 7.725\n",
    "a = 0.01\n",
    "\n",
    "\n",
    "mod.atmospheres['ch1'].set_parameters([Bx,By,Bz,tau,vlos,vth,1.0,a],1.0)\n",
    "mod.synthesize()\n",
    "\n",
    "stokes = np.copy(mod.spectrum['spec1'].stokes)\n",
    "wave = mod.spectrum['spec1'].wavelength_axis"
   ]
  },
  {
   "cell_type": "code",
   "execution_count": null,
   "id": "5fe1e04f",
   "metadata": {},
   "outputs": [],
   "source": [
    "plt.figure(figsize=[15,15])\n",
    "plt.subplot(221)\n",
    "plt.plot(ll-10830,stokes_to_fit[0,:],'o')\n",
    "plt.plot(ll-10830,fit[0,0,:])\n",
    "plt.plot(wave-10830,stokes[0,:])\n",
    "plt.ylim([0.0, 1.05])\n",
    "plt.subplot(222)\n",
    "plt.plot(ll-10830,stokes_to_fit[1,:],'o')\n",
    "plt.plot(ll-10830,fit[0,1,:])\n",
    "plt.plot(wave-10830,stokes[1,:])\n",
    "plt.ylim([-0.012, 0.012])\n",
    "plt.subplot(223)\n",
    "plt.plot(ll-10830,stokes_to_fit[2,:],'o')\n",
    "plt.plot(ll-10830,fit[0,2,:])\n",
    "plt.plot(wave-10830,stokes[2,:])\n",
    "plt.ylim([-0.012, 0.012])\n",
    "plt.subplot(224)\n",
    "plt.plot(ll-10830,stokes_to_fit[3,:],'o')\n",
    "plt.plot(ll-10830,fit[0,3,:])\n",
    "plt.plot(wave-10830,stokes[3,:])\n",
    "plt.ylim([-0.012, 0.012])"
   ]
  },
  {
   "cell_type": "markdown",
   "id": "4d3a1f07",
   "metadata": {},
   "source": [
    "## NOW WE CAN CHECK HOW THE PEAKS RATIO CHANGES WITH OPTICAL DEPTH IN COMPARISON WITH OUR NLTE SELF CONSISTEN SOLUTION "
   ]
  },
  {
   "cell_type": "code",
   "execution_count": null,
   "id": "f3152c47",
   "metadata": {},
   "outputs": [],
   "source": [
    "# We will first create a model:\n",
    "mod = hazel.Model(working_mode='synthesis')\n",
    "\n",
    "# The model contains the information about the desired wavelength grid, the so called 'topology', line of sight, and the boundary condition:\n",
    "mod.add_spectral({'Name': 'spec1', 'Wavelength': [ll.min(), ll.max(), len(ll)], 'topology': 'ch1',\n",
    "    'LOS': [0.0,0.0,90.0], 'Boundary condition': [1.0,0.0,0.0,0.0]})\n",
    "\n",
    "# It also contains the general information about our \"chromosphere\"\n",
    "\n",
    "mod.add_chromosphere({'Name': 'ch1', 'Spectral region': 'spec1', 'Height': 41.0, 'Line': '10830', 'Wavelength': [10826, 10833]})\n",
    "mod.setup()\n",
    "# note that the height of the slab above the solar surface is given here,in arcseconds.\n",
    "\n",
    "Bx = 10.0\n",
    "By = 0.0\n",
    "Bz = 0.0\n",
    "vlos = 0.0\n",
    "vth = 7.725\n",
    "a = 0.01\n",
    "\n",
    "\n",
    "plt.figure(figsize=[16,8])\n",
    "taus = np.arange(0.1,20,0.1)\n",
    "ratios = []\n",
    "for num, tau in enumerate(taus):\n",
    "    \n",
    "    mod.atmospheres['ch1'].set_parameters([Bx,By,Bz,tau,vlos,vth,1.0,a],1.0)\n",
    "    mod.synthesize()\n",
    "\n",
    "    stokes = np.copy(mod.spectrum['spec1'].stokes)\n",
    "    wave = mod.spectrum['spec1'].wavelength_axis\n",
    "\n",
    "    indx_peak_red = np.abs(wave -10830 + 0.95).argmin()\n",
    "    indx_peak_blue = np.abs(wave -10830 - 0.3).argmin()\n",
    "\n",
    "    ratios.append((1 - stokes[0,indx_peak_blue])/(1 - stokes[0,indx_peak_red]))\n",
    "    \n",
    "    if tau%1 < 0.01 and tau < 10:\n",
    "        plt.subplot(121)\n",
    "        plt.plot(wave-10830,stokes[0,:])\n",
    "\n",
    "plt.ylim([0.0, 1.05])\n",
    "plt.subplot(122)\n",
    "plt.plot(taus, ratios, label='constant property slab')\n",
    "    \n",
    "# tau, ratios = np.loadtxt('/home/avicente/Documents/flat_spectrum/peaks_tau_analytical.txt', unpack=True)\n",
    "# plt.plot(tau, ratios, label='self consistent NLTE')\n",
    "plt.legend()\n",
    "plt.show()"
   ]
  }
 ],
 "metadata": {
  "kernelspec": {
   "display_name": "Python 3.9.13 ('hazel_env')",
   "language": "python",
   "name": "python3"
  },
  "language_info": {
   "codemirror_mode": {
    "name": "ipython",
    "version": 3
   },
   "file_extension": ".py",
   "mimetype": "text/x-python",
   "name": "python",
   "nbconvert_exporter": "python",
   "pygments_lexer": "ipython3",
   "version": "3.9.13"
  },
  "vscode": {
   "interpreter": {
    "hash": "913f81f101e8e200fc077189a86a12e146f0abdd0013f4692ff97d8d2d8bb99a"
   }
  }
 },
 "nbformat": 4,
 "nbformat_minor": 5
}
